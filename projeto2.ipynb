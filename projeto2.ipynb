{
  "nbformat": 4,
  "nbformat_minor": 0,
  "metadata": {
    "colab": {
      "name": "projeto2.ipynb",
      "provenance": [],
      "collapsed_sections": [
        "O7CHNPPDTBtd",
        "XJUyofddu5KU"
      ]
    },
    "kernelspec": {
      "name": "python3",
      "display_name": "Python 3"
    }
  },
  "cells": [
    {
      "cell_type": "markdown",
      "metadata": {
        "id": "8Gczukxf59hH"
      },
      "source": [
        "# Projeto 2 \n",
        "\n",
        "Renan de Oliveira da Cruz, Nº USP 10801090\n",
        "\n",
        "Bacharelado em Estatística e Ciência de Dados\n",
        "\n",
        "email: r_oliveira@usp.br\n",
        "\n",
        "github: https://github.com/nan-oliveira\n",
        "\n",
        "<br>\n",
        "\n",
        "Giovana Daniele da Silva, Nº USP 10692224\n",
        "\n",
        "Bacharelado em Ciências de Computação\n",
        "\n",
        "email: giovana.daniele@usp.br\n",
        "\n",
        "github: https://github.com/giovanadanieles"
      ]
    },
    {
      "cell_type": "markdown",
      "metadata": {
        "id": "afGswVHi6z0t"
      },
      "source": [
        "## 1 - Gere dados a partir de uma distribuição de Poisson. Varie a taxas $\\lambda$ no intervalo [1, 10] e mostre o gráfico da média em função da variância."
      ]
    },
    {
      "cell_type": "markdown",
      "metadata": {
        "id": "kQdHZhC491eZ"
      },
      "source": [
        "Uma variável aleatória $X$ tem distribuição Poisson se a sua função massa de probabilidade poder ser escrita como:\n",
        "\n",
        "$$f(x ; \\lambda)=\\frac{e^{-\\lambda} \\lambda^{x}}{x !}, x = 0, 1, 2, 3, ...$$\n",
        "\n",
        "Não é difícil verificar que $\\mathbb{E}[X] = \\lambda = \\mathbb{Var}[X]$."
      ]
    },
    {
      "cell_type": "markdown",
      "metadata": {
        "id": "kCMimIC763dJ"
      },
      "source": [
        "Primeiramente, segue a geração de amostras:"
      ]
    },
    {
      "cell_type": "code",
      "metadata": {
        "id": "PLlFJbLj6zf4"
      },
      "source": [
        "# Bibliotecas utilizadas\n",
        "import numpy as np\n",
        "import pandas as pd\n",
        "import matplotlib.pyplot as plt\n",
        "from scipy.stats import pearsonr, spearmanr\n",
        "\n",
        "# Fixando a semente\n",
        "np.random.seed(2000)"
      ],
      "execution_count": null,
      "outputs": []
    },
    {
      "cell_type": "code",
      "metadata": {
        "id": "sqUOAIup582r",
        "outputId": "e0f50460-eead-4ce6-d2d3-4d9dd4326136",
        "colab": {
          "base_uri": "https://localhost:8080/",
          "height": 224
        }
      },
      "source": [
        "dados_poisson = pd.DataFrame()\n",
        "\n",
        "# Cada amostra tem tamanho 30\n",
        "for i in np.arange(1, 10.5, 0.5):\n",
        "  dados_poisson['Lambda_' + str(i)] = pd.Series(np.random.poisson(i, 30))\n",
        "\n",
        "dados_poisson.head(5)"
      ],
      "execution_count": null,
      "outputs": [
        {
          "output_type": "execute_result",
          "data": {
            "text/html": [
              "<div>\n",
              "<style scoped>\n",
              "    .dataframe tbody tr th:only-of-type {\n",
              "        vertical-align: middle;\n",
              "    }\n",
              "\n",
              "    .dataframe tbody tr th {\n",
              "        vertical-align: top;\n",
              "    }\n",
              "\n",
              "    .dataframe thead th {\n",
              "        text-align: right;\n",
              "    }\n",
              "</style>\n",
              "<table border=\"1\" class=\"dataframe\">\n",
              "  <thead>\n",
              "    <tr style=\"text-align: right;\">\n",
              "      <th></th>\n",
              "      <th>Lambda_1.0</th>\n",
              "      <th>Lambda_1.5</th>\n",
              "      <th>Lambda_2.0</th>\n",
              "      <th>Lambda_2.5</th>\n",
              "      <th>Lambda_3.0</th>\n",
              "      <th>Lambda_3.5</th>\n",
              "      <th>Lambda_4.0</th>\n",
              "      <th>Lambda_4.5</th>\n",
              "      <th>Lambda_5.0</th>\n",
              "      <th>Lambda_5.5</th>\n",
              "      <th>Lambda_6.0</th>\n",
              "      <th>Lambda_6.5</th>\n",
              "      <th>Lambda_7.0</th>\n",
              "      <th>Lambda_7.5</th>\n",
              "      <th>Lambda_8.0</th>\n",
              "      <th>Lambda_8.5</th>\n",
              "      <th>Lambda_9.0</th>\n",
              "      <th>Lambda_9.5</th>\n",
              "      <th>Lambda_10.0</th>\n",
              "    </tr>\n",
              "  </thead>\n",
              "  <tbody>\n",
              "    <tr>\n",
              "      <th>0</th>\n",
              "      <td>1</td>\n",
              "      <td>2</td>\n",
              "      <td>3</td>\n",
              "      <td>1</td>\n",
              "      <td>4</td>\n",
              "      <td>7</td>\n",
              "      <td>7</td>\n",
              "      <td>3</td>\n",
              "      <td>4</td>\n",
              "      <td>3</td>\n",
              "      <td>5</td>\n",
              "      <td>11</td>\n",
              "      <td>5</td>\n",
              "      <td>10</td>\n",
              "      <td>4</td>\n",
              "      <td>5</td>\n",
              "      <td>13</td>\n",
              "      <td>11</td>\n",
              "      <td>9</td>\n",
              "    </tr>\n",
              "    <tr>\n",
              "      <th>1</th>\n",
              "      <td>1</td>\n",
              "      <td>3</td>\n",
              "      <td>5</td>\n",
              "      <td>0</td>\n",
              "      <td>4</td>\n",
              "      <td>4</td>\n",
              "      <td>5</td>\n",
              "      <td>3</td>\n",
              "      <td>8</td>\n",
              "      <td>5</td>\n",
              "      <td>3</td>\n",
              "      <td>5</td>\n",
              "      <td>11</td>\n",
              "      <td>6</td>\n",
              "      <td>11</td>\n",
              "      <td>14</td>\n",
              "      <td>5</td>\n",
              "      <td>16</td>\n",
              "      <td>6</td>\n",
              "    </tr>\n",
              "    <tr>\n",
              "      <th>2</th>\n",
              "      <td>1</td>\n",
              "      <td>3</td>\n",
              "      <td>3</td>\n",
              "      <td>4</td>\n",
              "      <td>4</td>\n",
              "      <td>4</td>\n",
              "      <td>5</td>\n",
              "      <td>2</td>\n",
              "      <td>3</td>\n",
              "      <td>4</td>\n",
              "      <td>6</td>\n",
              "      <td>5</td>\n",
              "      <td>2</td>\n",
              "      <td>3</td>\n",
              "      <td>15</td>\n",
              "      <td>6</td>\n",
              "      <td>12</td>\n",
              "      <td>9</td>\n",
              "      <td>12</td>\n",
              "    </tr>\n",
              "    <tr>\n",
              "      <th>3</th>\n",
              "      <td>0</td>\n",
              "      <td>6</td>\n",
              "      <td>0</td>\n",
              "      <td>4</td>\n",
              "      <td>2</td>\n",
              "      <td>3</td>\n",
              "      <td>5</td>\n",
              "      <td>4</td>\n",
              "      <td>3</td>\n",
              "      <td>3</td>\n",
              "      <td>10</td>\n",
              "      <td>2</td>\n",
              "      <td>6</td>\n",
              "      <td>4</td>\n",
              "      <td>5</td>\n",
              "      <td>9</td>\n",
              "      <td>11</td>\n",
              "      <td>7</td>\n",
              "      <td>12</td>\n",
              "    </tr>\n",
              "    <tr>\n",
              "      <th>4</th>\n",
              "      <td>1</td>\n",
              "      <td>1</td>\n",
              "      <td>3</td>\n",
              "      <td>4</td>\n",
              "      <td>5</td>\n",
              "      <td>5</td>\n",
              "      <td>7</td>\n",
              "      <td>3</td>\n",
              "      <td>4</td>\n",
              "      <td>6</td>\n",
              "      <td>10</td>\n",
              "      <td>7</td>\n",
              "      <td>5</td>\n",
              "      <td>9</td>\n",
              "      <td>13</td>\n",
              "      <td>12</td>\n",
              "      <td>9</td>\n",
              "      <td>7</td>\n",
              "      <td>9</td>\n",
              "    </tr>\n",
              "  </tbody>\n",
              "</table>\n",
              "</div>"
            ],
            "text/plain": [
              "   Lambda_1.0  Lambda_1.5  Lambda_2.0  ...  Lambda_9.0  Lambda_9.5  Lambda_10.0\n",
              "0           1           2           3  ...          13          11            9\n",
              "1           1           3           5  ...           5          16            6\n",
              "2           1           3           3  ...          12           9           12\n",
              "3           0           6           0  ...          11           7           12\n",
              "4           1           1           3  ...           9           7            9\n",
              "\n",
              "[5 rows x 19 columns]"
            ]
          },
          "metadata": {
            "tags": []
          },
          "execution_count": 5
        }
      ]
    },
    {
      "cell_type": "markdown",
      "metadata": {
        "id": "nYphPuQCOtiW"
      },
      "source": [
        "Calculo das médias e variâncias:"
      ]
    },
    {
      "cell_type": "code",
      "metadata": {
        "id": "fy_XF6puOoto",
        "outputId": "833803f9-0fbc-4a24-e8cc-457ff1d92227",
        "colab": {
          "base_uri": "https://localhost:8080/",
          "height": 204
        }
      },
      "source": [
        "media = dados_poisson.apply(np.mean)\n",
        "variancia = dados_poisson.apply(np.var)\n",
        "\n",
        "dados = pd.DataFrame()\n",
        "dados['media'] = media\n",
        "dados['variancia'] = variancia\n",
        "\n",
        "dados.head(5)"
      ],
      "execution_count": null,
      "outputs": [
        {
          "output_type": "execute_result",
          "data": {
            "text/html": [
              "<div>\n",
              "<style scoped>\n",
              "    .dataframe tbody tr th:only-of-type {\n",
              "        vertical-align: middle;\n",
              "    }\n",
              "\n",
              "    .dataframe tbody tr th {\n",
              "        vertical-align: top;\n",
              "    }\n",
              "\n",
              "    .dataframe thead th {\n",
              "        text-align: right;\n",
              "    }\n",
              "</style>\n",
              "<table border=\"1\" class=\"dataframe\">\n",
              "  <thead>\n",
              "    <tr style=\"text-align: right;\">\n",
              "      <th></th>\n",
              "      <th>media</th>\n",
              "      <th>variancia</th>\n",
              "    </tr>\n",
              "  </thead>\n",
              "  <tbody>\n",
              "    <tr>\n",
              "      <th>Lambda_1.0</th>\n",
              "      <td>0.866667</td>\n",
              "      <td>0.782222</td>\n",
              "    </tr>\n",
              "    <tr>\n",
              "      <th>Lambda_1.5</th>\n",
              "      <td>2.166667</td>\n",
              "      <td>2.205556</td>\n",
              "    </tr>\n",
              "    <tr>\n",
              "      <th>Lambda_2.0</th>\n",
              "      <td>2.233333</td>\n",
              "      <td>1.978889</td>\n",
              "    </tr>\n",
              "    <tr>\n",
              "      <th>Lambda_2.5</th>\n",
              "      <td>2.733333</td>\n",
              "      <td>2.528889</td>\n",
              "    </tr>\n",
              "    <tr>\n",
              "      <th>Lambda_3.0</th>\n",
              "      <td>2.866667</td>\n",
              "      <td>2.515556</td>\n",
              "    </tr>\n",
              "  </tbody>\n",
              "</table>\n",
              "</div>"
            ],
            "text/plain": [
              "               media  variancia\n",
              "Lambda_1.0  0.866667   0.782222\n",
              "Lambda_1.5  2.166667   2.205556\n",
              "Lambda_2.0  2.233333   1.978889\n",
              "Lambda_2.5  2.733333   2.528889\n",
              "Lambda_3.0  2.866667   2.515556"
            ]
          },
          "metadata": {
            "tags": []
          },
          "execution_count": 6
        }
      ]
    },
    {
      "cell_type": "code",
      "metadata": {
        "id": "EqHFEPHuPvAa",
        "outputId": "00066725-892b-461b-8520-24c834ba0ffa",
        "colab": {
          "base_uri": "https://localhost:8080/",
          "height": 295
        }
      },
      "source": [
        "plt.scatter(variancia, media)\n",
        "\n",
        "plt.xlabel('Variância amostral')\n",
        "plt.ylabel('Média amostral')\n",
        "plt.title('Gráfico de dispersão')\n",
        "\n",
        "plt.show()"
      ],
      "execution_count": null,
      "outputs": [
        {
          "output_type": "display_data",
          "data": {
            "image/png": "[encoded data removed]",
            "text/plain": [
              "<Figure size 432x288 with 1 Axes>"
            ]
          },
          "metadata": {
            "tags": [],
            "needs_background": "light"
          }
        }
      ]
    },
    {
      "cell_type": "markdown",
      "metadata": {
        "id": "IeMn1DbNgszx"
      },
      "source": [
        "Do ponto de vista teórico tem-se que a variância da distribuição Poisson é igual a sua própria média. Devido a tal característica tem-se que, conforme ocorra um aumento na média dos valores gerados também ocorerá um aumento na dispersão dos dados (variância).\n",
        "\n",
        "Segue abaixo, juntamente com o gráfico de dispersão, uma reta de mínimos quadrados.\n",
        "\n",
        "A reta de mínimos quadrados pode ser dada por:\n",
        "\n",
        "$$y = \\hat{\\beta_1} \\cdot x + \\hat{\\beta}_0$$\n",
        "\n",
        "Em que $$\\widehat{\\beta}_{1}=\\frac{\\sum_{i=1}^{n}\\left(x_{i}-\\bar{x}\\right)\\left(Y_{i}-\\bar{Y}\\right)}{\\sum_{i=1}^{n}\\left(x_{i}-\\bar{x}\\right)^{2}}$$ e $$\\widehat{\\beta}_{0}=\\bar{Y}-\\widehat{\\beta}_{1} \\bar{x}$$\n",
        "\n",
        "considerando como $x$ a variância amostral e $Y$ a média amostral."
      ]
    },
    {
      "cell_type": "code",
      "metadata": {
        "id": "9rerxPmrhWHn",
        "outputId": "36517870-2133-4849-919b-de2078b69f94",
        "colab": {
          "base_uri": "https://localhost:8080/",
          "height": 331
        }
      },
      "source": [
        "beta1 = sum((dados.variancia - np.mean(dados.variancia))*(dados.media - np.mean(dados.media))) / sum((dados.variancia - np.mean(dados.variancia))**2)\n",
        "beta0 = np.mean(dados.media) - beta1 * np.mean(dados.variancia)\n",
        "\n",
        "print('beta0:', beta0)\n",
        "print('beta1:', beta1)\n",
        "\n",
        "plt.scatter(variancia, media)\n",
        "plt.xlabel('Variância amostral')\n",
        "plt.ylabel('Média amostral')\n",
        "plt.title('Gráfico de dispersão')\n",
        "plt.plot(dados.variancia, beta1 * dados.variancia + beta0, 'r-')\n",
        "plt.show()"
      ],
      "execution_count": null,
      "outputs": [
        {
          "output_type": "stream",
          "text": [
            "beta0: 0.6437218842206063\n",
            "beta1: 0.8848898693126508\n"
          ],
          "name": "stdout"
        },
        {
          "output_type": "display_data",
          "data": {
            "image/png": "[encoded data removed]",
            "text/plain": [
              "<Figure size 432x288 with 1 Axes>"
            ]
          },
          "metadata": {
            "tags": [],
            "needs_background": "light"
          }
        }
      ]
    },
    {
      "cell_type": "markdown",
      "metadata": {
        "id": "y1bnw0W1DDAN"
      },
      "source": [
        "Em seguida tem-se o cálculo de dois coeficientes de correlação:"
      ]
    },
    {
      "cell_type": "code",
      "metadata": {
        "id": "W0X-BiVPgsQL",
        "outputId": "04f8cee6-f30b-4bb9-ab42-07b2e8e5f838",
        "colab": {
          "base_uri": "https://localhost:8080/",
          "height": 53
        }
      },
      "source": [
        "print('Coeficiente de correlação de Pearson: ',pearsonr(dados.media, dados.variancia)[0])\n",
        "print('Coeficiente de correlação de Spearman: ', spearmanr(dados.media, dados.variancia)[0])"
      ],
      "execution_count": null,
      "outputs": [
        {
          "output_type": "stream",
          "text": [
            "Coeficiente de correlação de Pearson:  0.9538736724154849\n",
            "Coeficiente de correlação de Spearman:  0.956140350877193\n"
          ],
          "name": "stdout"
        }
      ]
    },
    {
      "cell_type": "markdown",
      "metadata": {
        "id": "1pKmziWyqNX2"
      },
      "source": [
        "A partir do gráfico acima conclui-se que a variância amostral e a média amostral estão linearmente fortemente correlacionadas, fato que é corroborado pelo cálculo dos coeficientes de correlação de Pearson e de Spearman. Ambos os coeficientes resultaram em valores \"altos\", próximos de 1. Esse resultado se justifica pelo fato de que a média teórica e a variância teórica são iguais; sendo assim, aumentando a média aumenta-se também a dispersão dos dados. Devido à mesma justificativa, pode-se observar, via análise gráfica, que os pontos se aproximam da reta identidade, fazendo com que seja possível afirmar que a variância amostral e a média amostral são concordantes.  "
      ]
    },
    {
      "cell_type": "markdown",
      "metadata": {
        "id": "O7CHNPPDTBtd"
      },
      "source": [
        "## 2 - Considere os dados da Iris. Calcule a média, variância e IQR para cada atributo."
      ]
    },
    {
      "cell_type": "code",
      "metadata": {
        "id": "05XwXiXLVU2g"
      },
      "source": [
        "# Bibliotecas utilizadas \n",
        "\n",
        "import pandas as pd\n",
        "import numpy as np\n",
        "from scipy.stats import iqr"
      ],
      "execution_count": null,
      "outputs": []
    },
    {
      "cell_type": "markdown",
      "metadata": {
        "id": "6saC4k5tVZct"
      },
      "source": [
        "Carregando os dados e verificando se os mesmos foram carregados corretamente:"
      ]
    },
    {
      "cell_type": "code",
      "metadata": {
        "id": "NddqNn9sVd7D",
        "outputId": "463f95c0-6213-425d-a93d-f93c0771b695",
        "colab": {
          "base_uri": "https://localhost:8080/",
          "height": 204
        }
      },
      "source": [
        "data = pd.read_csv('/content/aula3_data/iris.csv', header=(0))\n",
        "\n",
        "data.head(5)"
      ],
      "execution_count": null,
      "outputs": [
        {
          "output_type": "execute_result",
          "data": {
            "text/html": [
              "<div>\n",
              "<style scoped>\n",
              "    .dataframe tbody tr th:only-of-type {\n",
              "        vertical-align: middle;\n",
              "    }\n",
              "\n",
              "    .dataframe tbody tr th {\n",
              "        vertical-align: top;\n",
              "    }\n",
              "\n",
              "    .dataframe thead th {\n",
              "        text-align: right;\n",
              "    }\n",
              "</style>\n",
              "<table border=\"1\" class=\"dataframe\">\n",
              "  <thead>\n",
              "    <tr style=\"text-align: right;\">\n",
              "      <th></th>\n",
              "      <th>sepal_length</th>\n",
              "      <th>sepal_width</th>\n",
              "      <th>petal_length</th>\n",
              "      <th>petal_width</th>\n",
              "      <th>species</th>\n",
              "    </tr>\n",
              "  </thead>\n",
              "  <tbody>\n",
              "    <tr>\n",
              "      <th>0</th>\n",
              "      <td>5.1</td>\n",
              "      <td>3.5</td>\n",
              "      <td>1.4</td>\n",
              "      <td>0.2</td>\n",
              "      <td>setosa</td>\n",
              "    </tr>\n",
              "    <tr>\n",
              "      <th>1</th>\n",
              "      <td>4.9</td>\n",
              "      <td>3.0</td>\n",
              "      <td>1.4</td>\n",
              "      <td>0.2</td>\n",
              "      <td>setosa</td>\n",
              "    </tr>\n",
              "    <tr>\n",
              "      <th>2</th>\n",
              "      <td>4.7</td>\n",
              "      <td>3.2</td>\n",
              "      <td>1.3</td>\n",
              "      <td>0.2</td>\n",
              "      <td>setosa</td>\n",
              "    </tr>\n",
              "    <tr>\n",
              "      <th>3</th>\n",
              "      <td>4.6</td>\n",
              "      <td>3.1</td>\n",
              "      <td>1.5</td>\n",
              "      <td>0.2</td>\n",
              "      <td>setosa</td>\n",
              "    </tr>\n",
              "    <tr>\n",
              "      <th>4</th>\n",
              "      <td>5.0</td>\n",
              "      <td>3.6</td>\n",
              "      <td>1.4</td>\n",
              "      <td>0.2</td>\n",
              "      <td>setosa</td>\n",
              "    </tr>\n",
              "  </tbody>\n",
              "</table>\n",
              "</div>"
            ],
            "text/plain": [
              "   sepal_length  sepal_width  petal_length  petal_width species\n",
              "0           5.1          3.5           1.4          0.2  setosa\n",
              "1           4.9          3.0           1.4          0.2  setosa\n",
              "2           4.7          3.2           1.3          0.2  setosa\n",
              "3           4.6          3.1           1.5          0.2  setosa\n",
              "4           5.0          3.6           1.4          0.2  setosa"
            ]
          },
          "metadata": {
            "tags": []
          },
          "execution_count": 12
        }
      ]
    },
    {
      "cell_type": "markdown",
      "metadata": {
        "id": "13lHeRLNX7j7"
      },
      "source": [
        "Calculando a média de cada atributo:"
      ]
    },
    {
      "cell_type": "code",
      "metadata": {
        "id": "45XNigi9aEyS"
      },
      "source": [
        "data_sl = data.drop(data.columns[[1, 2, 3, 4]], axis = 1) # Selecionando apenas o atributo sepal_length\n",
        "data_sw = data.drop(data.columns[[0, 2, 3, 4]], axis = 1) # Selecionando apenas o atributo sepal_width\n",
        "data_pl = data.drop(data.columns[[0, 1, 3, 4]], axis = 1) # Selecionando apenas o atributo petal_length\n",
        "data_pw = data.drop(data.columns[[0, 1, 2, 4]], axis = 1) # Selecionando apenas o atributo petal_width\n",
        "\n",
        "# Transformando em um array do tipo float\n",
        "data_sl_array = np.array(data_sl, dtype = float) \n",
        "data_sw_array = np.array(data_sw, dtype = float) \n",
        "data_pl_array = np.array(data_pl, dtype = float) \n",
        "data_pw_array = np.array(data_pw, dtype = float) "
      ],
      "execution_count": null,
      "outputs": []
    },
    {
      "cell_type": "code",
      "metadata": {
        "id": "Tt7ul-dQW8xD",
        "outputId": "4ec7e222-e26a-4ec7-a0c8-5c90de54e64a",
        "colab": {
          "base_uri": "https://localhost:8080/",
          "height": 89
        }
      },
      "source": [
        "# Imprimindo resultados:\n",
        "print(\"Média do atributo sepal length:  \", np.mean(data_sl_array))\n",
        "print(\"Média do atributo sepal width:   \", np.mean(data_sw_array))\n",
        "print(\"Média do atributo petal length:  \", np.mean(data_pl_array))\n",
        "print(\"Média do atributo petal width:   \", np.mean(data_pw_array))\n"
      ],
      "execution_count": null,
      "outputs": [
        {
          "output_type": "stream",
          "text": [
            "Média do atributo sepal length:   5.843333333333334\n",
            "Média do atributo sepal width:    3.0540000000000003\n",
            "Média do atributo petal length:   3.758666666666666\n",
            "Média do atributo petal width:    1.1986666666666668\n"
          ],
          "name": "stdout"
        }
      ]
    },
    {
      "cell_type": "markdown",
      "metadata": {
        "id": "xkYZUUzEZM3P"
      },
      "source": [
        "Calculando a variância de cada atributo:\n",
        "\n"
      ]
    },
    {
      "cell_type": "code",
      "metadata": {
        "id": "CJ39iLCBZ0df",
        "outputId": "b699737f-0043-404f-f998-576a4997ca1a",
        "colab": {
          "base_uri": "https://localhost:8080/",
          "height": 89
        }
      },
      "source": [
        "# Imprimindo resultados:\n",
        "print(\"Variância do atributo sepal length:  \", np.var(data_sl_array, ddof = 1)) # var amostral\n",
        "print(\"Variância do atributo sepal width:   \", np.var(data_sw_array, ddof = 1))\n",
        "print(\"Variância do atributo petal length:  \", np.var(data_pl_array, ddof = 1))\n",
        "print(\"Variância do atributo petal width:   \", np.var(data_pw_array, ddof = 1))"
      ],
      "execution_count": null,
      "outputs": [
        {
          "output_type": "stream",
          "text": [
            "Variância do atributo sepal length:   0.6856935123042507\n",
            "Variância do atributo sepal width:    0.1880040268456376\n",
            "Variância do atributo petal length:   3.113179418344519\n",
            "Variância do atributo petal width:    0.582414317673378\n"
          ],
          "name": "stdout"
        }
      ]
    },
    {
      "cell_type": "markdown",
      "metadata": {
        "id": "k4CYdUjxaH5E"
      },
      "source": [
        "Calculando o IQR de cada atributo:"
      ]
    },
    {
      "cell_type": "code",
      "metadata": {
        "id": "XYBALdG2aLCL",
        "outputId": "d917babe-2c1a-4aa3-90e9-12b7b9eb1557",
        "colab": {
          "base_uri": "https://localhost:8080/",
          "height": 89
        }
      },
      "source": [
        "# Imprimindo resultados:\n",
        "print(\"IQR do atributo sepal length:  \", iqr(data_sl_array))\n",
        "print(\"IQR do atributo sepal width:   \", iqr(data_sw_array))\n",
        "print(\"IQR do atributo petal length:  \", iqr(data_pl_array))\n",
        "print(\"IQR do atributo petal width:   \", iqr(data_pw_array))"
      ],
      "execution_count": null,
      "outputs": [
        {
          "output_type": "stream",
          "text": [
            "IQR do atributo sepal length:   1.3000000000000007\n",
            "IQR do atributo sepal width:    0.5\n",
            "IQR do atributo petal length:   3.4999999999999996\n",
            "IQR do atributo petal width:    1.5\n"
          ],
          "name": "stdout"
        }
      ]
    },
    {
      "cell_type": "markdown",
      "metadata": {
        "id": "eTpGS2xRaaFB"
      },
      "source": [
        "Vale ressaltar que o atributo *species* foi desconsiderado pois as medidas pedidas não se aplicam a atributos qualitativos nominais."
      ]
    },
    {
      "cell_type": "markdown",
      "metadata": {
        "id": "cMdOygB3tWVu"
      },
      "source": [
        "## 3 - Obtenha o boxplot de todas as variáveis da flor Iris, para cada espécie."
      ]
    },
    {
      "cell_type": "code",
      "metadata": {
        "id": "9xQncEUruofm"
      },
      "source": [
        "# Importando bibliotecas\n",
        "import seaborn as sns\n",
        "import pandas as pd"
      ],
      "execution_count": null,
      "outputs": []
    },
    {
      "cell_type": "markdown",
      "metadata": {
        "id": "a1Rxri1NtcpR"
      },
      "source": [
        "Segue abaixo o boxplot de todas as variáveis do dataset iris, para cada espécie:"
      ]
    },
    {
      "cell_type": "code",
      "metadata": {
        "id": "rckUg2estcAQ",
        "outputId": "bc53f6cb-63bb-428f-eed7-c496c371b8b3",
        "colab": {
          "base_uri": "https://localhost:8080/",
          "height": 885
        }
      },
      "source": [
        "plt.figure(figsize=(20,15))\n",
        "\n",
        "# Recebendo os dados em um dataframe do Pandas\n",
        "data = pd.read_csv('/content/aula3_data/iris.csv', header = (0))\n",
        "\n",
        "# Separando os dados em dataframes específicos para cada espécie\n",
        "data_setosa = data[data.species == 'setosa']\n",
        "data_versicolor = data[data.species == 'versicolor']\n",
        "data_virginica = data[data.species == 'virginica']\n",
        "\n",
        "# Rótulos auxiliares para legenda do gráfico\n",
        "xValues = ['sepal_length', 'sepal_width', 'petal_length', 'petal_width']\n",
        "yValues = ['setosa', 'versicolor', 'virginica']\n",
        "\n",
        "for i in range(len(xValues) * len(yValues)):\n",
        "  plt.subplot(3, 4, i + 1)\n",
        "\n",
        "  # Configurando os gráficos; os ifs foram usados para definir diferentes cores\n",
        "  if i == 0 or i == 1 or i == 2 or i == 3:\n",
        "    sns.boxplot(x = xValues[i % len(xValues)], y = 'species', data = data_setosa, color='darkblue')\n",
        "  elif i == 4 or i == 5 or i == 6 or i == 7:\n",
        "    sns.boxplot(x = xValues[i % len(xValues)], y = 'species', data = data_versicolor, color='purple')\n",
        "  else:\n",
        "    sns.boxplot(x = xValues[i % len(xValues)], y = 'species', data = data_virginica, color='#851e3e')\n",
        "\n",
        "  # Colocando legenda no eixo x apenas no extremo inferior do plot\n",
        "  if i == 8 or i == 9 or i == 10 or i == 11:\n",
        "    plt.xlabel(xValues[i % len(xValues)], fontsize=18)\n",
        "  else: \n",
        "    plt.xlabel(xValues[i % len(xValues)], fontsize=0)\n",
        "\n",
        "  # Colocando legenda no eixo y apenas no extremo esquerdo do plot\n",
        "  if i == 0 or i == 4 or i == 8: \n",
        "    plt.ylabel(yValues[i % len(yValues)], fontsize=18)\n",
        "  else:\n",
        "    plt.ylabel(yValues[i % len(yValues)], fontsize=0)\n",
        "  \n",
        "  # Habilitando os valores numéricos no eixo x para cada boxplot\n",
        "  plt.xticks(fontsize=8)\n",
        "  plt.yticks(fontsize=0)\n",
        "\n",
        "# Exibindo os boxplots gerados\n",
        "plt.show(True)"
      ],
      "execution_count": null,
      "outputs": [
        {
          "output_type": "display_data",
          "data": {
            "image/png": "[encoded data removed]",
            "text/plain": [
              "<Figure size 1440x1080 with 12 Axes>"
            ]
          },
          "metadata": {
            "tags": [],
            "needs_background": "light"
          }
        }
      ]
    },
    {
      "cell_type": "markdown",
      "metadata": {
        "id": "pVjwhLl7uydy"
      },
      "source": [
        "É possível observar, nos boxplots acima, a presença de outliers para os dados estratificados em pares <sepal_length, virginica>, <sepal_width, virginica>, <petal_length, versicolor>, <petal_length, setosa>, <petal_width, setosa>."
      ]
    },
    {
      "cell_type": "markdown",
      "metadata": {
        "id": "1Pqimk9Kau8_"
      },
      "source": [
        "## 4 - Para a função $log()$, investigue como as correlações de Pearson e Spearman variam de acordo com o intervalo dos dados."
      ]
    },
    {
      "cell_type": "markdown",
      "metadata": {
        "id": "DILnJZn3hJ6v"
      },
      "source": [
        "Para fazer a análise de acordo com o intervalo dos dados, optamos por selecionar 4 intervalos para x: $[1, 1000]$, $[1000, 5000]$, $[5000, 10000]$ e $[10000, 15000]$. \n",
        "\n",
        "Com base nos resultados, compararemos as correlações de Pearson e Spearman."
      ]
    },
    {
      "cell_type": "code",
      "metadata": {
        "id": "Bd-HSlbIk35z"
      },
      "source": [
        "# Importando bibliotecas\n",
        "import numpy as np\n",
        "import matplotlib.pyplot as plt\n",
        "from scipy.stats import pearsonr, spearmanr"
      ],
      "execution_count": null,
      "outputs": []
    },
    {
      "cell_type": "code",
      "metadata": {
        "id": "LowmPJNHk8I3",
        "outputId": "f48bfb59-5607-4a25-f40a-644884ad343a",
        "colab": {
          "base_uri": "https://localhost:8080/",
          "height": 886
        }
      },
      "source": [
        "avalues = [1, 1000, 5000, 10000]\n",
        "bvalues = [1000, 5000, 10000, 15000]\n",
        "\n",
        "N = 100\n",
        "\n",
        "plt.figure(figsize=(18,15))\n",
        "\n",
        "for i in range(len(bvalues)):\n",
        "\n",
        "  x = np.linspace(avalues[i], bvalues[i], N) \n",
        "  z = np.log(x)\n",
        " \n",
        "  plt.subplot(2, 2, i + 1)\n",
        "\n",
        "  plt.plot(x, z) \n",
        "  plt.xlabel(\"x\",fontsize = 20) \n",
        "  plt.ylabel(\"Log(X)\", fontsize = 20) \n",
        "  corr, p_value = pearsonr(x, z)\n",
        "  corrs, p_values = spearmanr(x, z)\n",
        "  corr = int(corr*100)/100\n",
        "  corrs = int(corrs*100)/100\n",
        "\n",
        "  stringP = 'Pearson corr.     = '+ str(corr)\n",
        "  stringS = 'Spearman corr. = '+ str(corrs)\n",
        "\n",
        "  if i == 0:\n",
        "    plt.text(625, 0, stringP, fontsize=15)\n",
        "    plt.text(625, 0.5, stringS, fontsize=15)\n",
        "  elif i == 1:\n",
        "    plt.text(3500, 6.9, stringP, fontsize=15)\n",
        "    plt.text(3500, 7.01, stringS, fontsize=15)\n",
        "  elif i == 2:\n",
        "    plt.text(8150, 8.52, stringP, fontsize=15)\n",
        "    plt.text(8150, 8.575, stringS, fontsize=15)\n",
        "  elif i == 3:\n",
        "    plt.text(13100, 9.21, stringP, fontsize=15)\n",
        "    plt.text(13100, 9.243, stringS, fontsize=15)\n",
        "\n",
        "plt.show()"
      ],
      "execution_count": null,
      "outputs": [
        {
          "output_type": "display_data",
          "data": {
            "image/png": "[encoded data removed]",
            "text/plain": [
              "<Figure size 1296x1080 with 4 Axes>"
            ]
          },
          "metadata": {
            "tags": [],
            "needs_background": "light"
          }
        }
      ]
    },
    {
      "cell_type": "markdown",
      "metadata": {
        "id": "g8W_h9766NzX"
      },
      "source": [
        "No **primeiro intervalo**, de $[1, 1000]$, é possível verificar que o coeficiente de correlação de Pearson é consideravelmente menor que o coeficiente de correlação de Spearman. Isso pode ser explicado pelo fato de a função logarítimica, que é **não linear**, crescer rapidamente no intervalo e a correlação de Pearson só medir correlações lineares. O coeficiente de Spearman, por outro lado, avalia a relação **monotônica** entre duas variáveis contínuas ou ordinais, o que se aplica bem ao exemplo: das quatro janelas selecionadas, essa é a que melhor exprime a não-linearidade da função $log()$, que pode ser descrita como uma função monotônica crescente.\n",
        "\n",
        "Ainda, vale acrescentar que o valor considerável do coeficiente de Pearson $(0.83)$ pode ser explicado pela forte correlação entre $x$ e seus respectivos logaritmos, conquanto a relação apresentada não seja linear.\n",
        "\n",
        "No **segundo intervalo** a função passa a crescer mais lentamente, assumindo uma forma semelhante às das funções lineares (embora a mesma não seja linear). Em função disso, o coeficiente de correlação de Pearson cresce consideravelmente e assume um valor muito próximo ao do coeficiente de correlação de Spearman.\n",
        "\n",
        "Por fim, no **terceiro e quarto intervalos**, o mesmo comportamento recentemente descrito se repete — neles, a função logarítimica poderia até mesmo ser confundida, sem uma análise cuidadosa e apenas com a observação da curva, com uma função linear. Aqui, os coeficientes de correlação de Spearman e de Pearson passam a apresentar o mesmo valor se considerada precisão de duas casas decimais.   "
      ]
    },
    {
      "cell_type": "markdown",
      "metadata": {
        "id": "XJUyofddu5KU"
      },
      "source": [
        "## 5 - Considere o código que mostra como a correlação de Pearson muda com a inclusão de ruídos (ver Python: Análise Exploratória de Dados). Modifique a função para Y = 0.5 $\\cdot$ X + ruído. Varie o ruído e calcule os coeficientes de Pearson e Spearman, mostrando os respectivos scatterplots com os valores dos coeficientes (como feito no exemplo)."
      ]
    },
    {
      "cell_type": "markdown",
      "metadata": {
        "id": "4hCMfkAaK1to"
      },
      "source": [
        "Assumindo que os ruídos possuem distribuição gama.\n",
        "\n",
        "Uma variável aleatória $X$ tem distribuição Gama com parâmetros $\\alpha$ e $\\beta$ ($X \\sim Gama(\\alpha, \\beta)$) se a sua função densidade de probabilidade puder ser escrita na forma:\n",
        "\n",
        "$$ f(x; \\alpha, \\beta) = \\frac{\\beta^{\\alpha} x^{\\alpha-1} e^{-\\beta x}}{\\Gamma(\\alpha)}, \\text{para }x, \\alpha, \\beta > 0$$\n",
        "\n",
        "Daí, vem $$\\mathbb{E}[X] = \\frac{\\alpha}{\\beta}$$ e $$\\mathbb{Var}[X] = \\frac{\\alpha}{\\beta^2}$$\n",
        "\n",
        "\n"
      ]
    },
    {
      "cell_type": "markdown",
      "metadata": {
        "id": "k7jMIZRXTcU6"
      },
      "source": [
        "Dessa maneira, fixar-se-á o parâmetro $\\alpha$ em 0.5, enquanto que o parâmetro $\\beta$ poderá assumir diferentes valores (20, 10, 5, 2, 1, 0.1). Isso tem por finalidade gerar ruídos com diferentes variâncias.\n",
        "\n",
        "Logo, cada gráfico abaixo pode ser descrito como:\n",
        "\n",
        "$$Y = 0.5 \\cdot x + \\epsilon$$\n",
        "\n",
        "Em que $\\epsilon \\sim Gama(0.5, \\beta)$.\n",
        "\n",
        "Para diferentes valores de beta, temos diferentes variâncias para o ruído, assim a variância de cada ruido é:\n"
      ]
    },
    {
      "cell_type": "code",
      "metadata": {
        "id": "PU9DbwZsUQ1L",
        "outputId": "6fb4a33c-0222-45bc-c268-2eb1dda1c43b",
        "colab": {
          "base_uri": "https://localhost:8080/",
          "height": 125
        }
      },
      "source": [
        "for aux in [20, 10, 5.0, 2.0, 1, 0.1]:\n",
        "  print('Para β igual a', aux, 'a variância é', 0.5/aux**2)"
      ],
      "execution_count": null,
      "outputs": [
        {
          "output_type": "stream",
          "text": [
            "Para β igual a 20 a variância é 0.00125\n",
            "Para β igual a 10 a variância é 0.005\n",
            "Para β igual a 5.0 a variância é 0.02\n",
            "Para β igual a 2.0 a variância é 0.125\n",
            "Para β igual a 1 a variância é 0.5\n",
            "Para β igual a 0.1 a variância é 49.99999999999999\n"
          ],
          "name": "stdout"
        }
      ]
    },
    {
      "cell_type": "code",
      "metadata": {
        "id": "1_-WBmP_asJU"
      },
      "source": [
        "# Importando bibliotecas\n",
        "import numpy as np\n",
        "import matplotlib.pyplot as plt\n",
        "from scipy.stats import pearsonr, spearmanr"
      ],
      "execution_count": null,
      "outputs": []
    },
    {
      "cell_type": "code",
      "metadata": {
        "id": "YXj0Jeefuxqq",
        "outputId": "8e8c60ea-0bc5-4a4e-8e12-ac8c5f780f50",
        "colab": {
          "base_uri": "https://localhost:8080/",
          "height": 592
        }
      },
      "source": [
        "np.random.seed(19)\n",
        "\n",
        "plt.figure(figsize=(20,10))\n",
        "\n",
        "N = 100\n",
        "X = np.linspace(-1,1, N)\n",
        "i = 0\n",
        "for aux in [20, 10, 5, 2, 1, 0.1]:\n",
        "    plt.subplot(2, 3, i + 1)\n",
        "    i = i + 1\n",
        "    # 1/aux para que a parametrização da dist gama fique de acordo com a densidade apresentada acima\n",
        "    erro = np.random.gamma(0.5,1/aux, N) \n",
        "    Y = 0.5*X + erro\n",
        "    plt.plot(X,Y, 'ro')\n",
        "    pearson = round(pearsonr(X, Y)[0], 2)\n",
        "    spearman = round(spearmanr(X, Y)[0], 2) \n",
        "    string1 = 'Pearson = '+ str(pearson)\n",
        "    string2 = 'Spearman = '+ str(spearman)\n",
        "    plt.xlim(-1.2,1.5)\n",
        "    if i == 1:\n",
        "      plt.text(0.62,-0.35, string1, fontsize=13)\n",
        "      plt.text(0.50,-0.45, string2, fontsize=13)\n",
        "    elif i == 2:\n",
        "      plt.text(0.57,-0.33, string1, fontsize=13)\n",
        "      plt.text(0.47,-0.43, string2, fontsize=13)\n",
        "    elif i == 3 or i == 4:\n",
        "      plt.text(0.64,0.0, string1, fontsize=13)\n",
        "      plt.text(0.52,-0.3, string2, fontsize=13)\n",
        "    elif i == 5:\n",
        "      plt.text(0.6, 2.5, string1, fontsize=13)\n",
        "      plt.text(0.51, 2.1, string2, fontsize=13)\n",
        "    else:\n",
        "      plt.text(0.6, 28.7, string1, fontsize=13)\n",
        "      plt.text(0.51, 26, string2, fontsize=13)\n",
        "\n",
        "plt.show(True)"
      ],
      "execution_count": null,
      "outputs": [
        {
          "output_type": "display_data",
          "data": {
            "image/png": "[encoded data removed]",
            "text/plain": [
              "<Figure size 1440x720 with 6 Axes>"
            ]
          },
          "metadata": {
            "tags": [],
            "needs_background": "light"
          }
        }
      ]
    },
    {
      "cell_type": "markdown",
      "metadata": {
        "id": "WmabI9LHgLw1"
      },
      "source": [
        "Por meio dos gráficos acima percebe-se que para ruídos com baixa variância os coeficientes de Pearson e Spearman são bem próximos e \"altos\" (fato que pode ser observado nos dois primeiros gráficos do canto superior esquerdo). Conforme tem-se um aumento da variância, ambos coeficientes de correlação diminuem, todavia, o coeficiente de correlação de Pearson diminui mais rapidamente do que o de Spearman. Isso ocorre devido ao fato de que, conforme aumenta-se variância do ruído, aumenta-se também a probabilidade de gerar valores \"mais extremos\" (mais distantes da moda) e, por usar momentos estatísticos, a correlação de Pearson é mais sensível a isso, enquanto que, por usar o posto (*rank*), o coeficiente de Spearman é mais robusto a \"valores distantes\". "
      ]
    },
    {
      "cell_type": "markdown",
      "metadata": {
        "id": "JfTmbpjGa5h0"
      },
      "source": [
        "## 6 - Considere os dados abaixo, chamado quarteto de Anscombe. Calcule a média, variância, correlação de Pearson e Spearman entre as variáveis x e y. O que você pode dizer sobre esses dados?"
      ]
    },
    {
      "cell_type": "code",
      "metadata": {
        "id": "e60SdHPobBaB"
      },
      "source": [
        "# Importando bibliotecas\n",
        "\n",
        "import matplotlib.pyplot as plt\n",
        "import numpy as np\n",
        "import pandas as pd\n",
        "from scipy.stats import pearsonr, spearmanr"
      ],
      "execution_count": null,
      "outputs": []
    },
    {
      "cell_type": "code",
      "metadata": {
        "id": "82oU_Gh0bFWv",
        "outputId": "0908d66a-6a22-4385-fcc6-72869ec24e65",
        "colab": {
          "base_uri": "https://localhost:8080/",
          "height": 425
        }
      },
      "source": [
        "x = [10, 8, 13, 9, 11, 14, 6, 4, 12, 7, 5]\n",
        "y1 = [8.04, 6.95, 7.58, 8.81, 8.33, 9.96, 7.24, 4.26, 10.84, 4.82, 5.68]\n",
        "y2 = [9.14, 8.14, 8.74, 8.77, 9.26, 8.10, 6.13, 3.10, 9.13, 7.26, 4.74]\n",
        "y3 = [7.46, 6.77, 12.74, 7.11, 7.81, 8.84, 6.08, 5.39, 8.15, 6.42, 5.73]\n",
        "x4 = [8, 8, 8, 8, 8, 8, 8, 19, 8, 8, 8]\n",
        "y4 = [6.58, 5.76, 7.71, 8.84, 8.47, 7.04, 5.25, 12.50, 5.56, 7.91, 6.89]\n",
        "\n",
        "datasets = {\n",
        "    'I': (x, y1),\n",
        "    'II': (x, y2),\n",
        "    'III': (x, y3),\n",
        "    'IV': (x4, y4)\n",
        "}\n",
        "\n",
        "fig, axs = plt.subplots(2, 2, sharex=True, sharey=True, figsize=(17, 7),\n",
        "                        gridspec_kw={'wspace': 0.08, 'hspace': 0.08})\n",
        "\n",
        "\n",
        "for ax, (label, (x, y)) in zip(axs.flat, datasets.items()):\n",
        "    ax.text(0.1, 0.9, label, fontsize=20, transform=ax.transAxes, va='top')\n",
        "    ax.tick_params(direction='in', top=True, right=True)\n",
        "    ax.plot(x, y, 'o')\n",
        "\n",
        "plt.show()\n",
        "\n"
      ],
      "execution_count": null,
      "outputs": [
        {
          "output_type": "display_data",
          "data": {
            "image/png": "[encoded data removed]",
            "text/plain": [
              "<Figure size 1224x504 with 4 Axes>"
            ]
          },
          "metadata": {
            "tags": [],
            "needs_background": "light"
          }
        }
      ]
    },
    {
      "cell_type": "markdown",
      "metadata": {
        "id": "DtZubsaNCbH1"
      },
      "source": [
        "Primeiro, salvemos os dados em um dataframe do Pandas:"
      ]
    },
    {
      "cell_type": "code",
      "metadata": {
        "id": "6c9d1_UlCe8N",
        "outputId": "2777a02c-8b29-46c9-cc28-57d9c8b3acdd",
        "colab": {
          "base_uri": "https://localhost:8080/",
          "height": 390
        }
      },
      "source": [
        "x = [10, 8, 13, 9, 11, 14, 6, 4, 12, 7, 5]\n",
        "y1 = [8.04, 6.95, 7.58, 8.81, 8.33, 9.96, 7.24, 4.26, 10.84, 4.82, 5.68]\n",
        "y2 = [9.14, 8.14, 8.74, 8.77, 9.26, 8.10, 6.13, 3.10, 9.13, 7.26, 4.74]\n",
        "y3 = [7.46, 6.77, 12.74, 7.11, 7.81, 8.84, 6.08, 5.39, 8.15, 6.42, 5.73]\n",
        "x4 = [8, 8, 8, 8, 8, 8, 8, 19, 8, 8, 8]\n",
        "y4 = [6.58, 5.76, 7.71, 8.84, 8.47, 7.04, 5.25, 12.50, 5.56, 7.91, 6.89]\n",
        "\n",
        "df_anscombe = pd.DataFrame(data = np.array([x, y1, y2, y3, x4, y4]).transpose(), columns=[\"x\", \"y1\", \"y2\", \"y3\", \"x4\", \"y4\"])\n",
        "\n",
        "df_anscombe.head(11)"
      ],
      "execution_count": null,
      "outputs": [
        {
          "output_type": "execute_result",
          "data": {
            "text/html": [
              "<div>\n",
              "<style scoped>\n",
              "    .dataframe tbody tr th:only-of-type {\n",
              "        vertical-align: middle;\n",
              "    }\n",
              "\n",
              "    .dataframe tbody tr th {\n",
              "        vertical-align: top;\n",
              "    }\n",
              "\n",
              "    .dataframe thead th {\n",
              "        text-align: right;\n",
              "    }\n",
              "</style>\n",
              "<table border=\"1\" class=\"dataframe\">\n",
              "  <thead>\n",
              "    <tr style=\"text-align: right;\">\n",
              "      <th></th>\n",
              "      <th>x</th>\n",
              "      <th>y1</th>\n",
              "      <th>y2</th>\n",
              "      <th>y3</th>\n",
              "      <th>x4</th>\n",
              "      <th>y4</th>\n",
              "    </tr>\n",
              "  </thead>\n",
              "  <tbody>\n",
              "    <tr>\n",
              "      <th>0</th>\n",
              "      <td>10.0</td>\n",
              "      <td>8.04</td>\n",
              "      <td>9.14</td>\n",
              "      <td>7.46</td>\n",
              "      <td>8.0</td>\n",
              "      <td>6.58</td>\n",
              "    </tr>\n",
              "    <tr>\n",
              "      <th>1</th>\n",
              "      <td>8.0</td>\n",
              "      <td>6.95</td>\n",
              "      <td>8.14</td>\n",
              "      <td>6.77</td>\n",
              "      <td>8.0</td>\n",
              "      <td>5.76</td>\n",
              "    </tr>\n",
              "    <tr>\n",
              "      <th>2</th>\n",
              "      <td>13.0</td>\n",
              "      <td>7.58</td>\n",
              "      <td>8.74</td>\n",
              "      <td>12.74</td>\n",
              "      <td>8.0</td>\n",
              "      <td>7.71</td>\n",
              "    </tr>\n",
              "    <tr>\n",
              "      <th>3</th>\n",
              "      <td>9.0</td>\n",
              "      <td>8.81</td>\n",
              "      <td>8.77</td>\n",
              "      <td>7.11</td>\n",
              "      <td>8.0</td>\n",
              "      <td>8.84</td>\n",
              "    </tr>\n",
              "    <tr>\n",
              "      <th>4</th>\n",
              "      <td>11.0</td>\n",
              "      <td>8.33</td>\n",
              "      <td>9.26</td>\n",
              "      <td>7.81</td>\n",
              "      <td>8.0</td>\n",
              "      <td>8.47</td>\n",
              "    </tr>\n",
              "    <tr>\n",
              "      <th>5</th>\n",
              "      <td>14.0</td>\n",
              "      <td>9.96</td>\n",
              "      <td>8.10</td>\n",
              "      <td>8.84</td>\n",
              "      <td>8.0</td>\n",
              "      <td>7.04</td>\n",
              "    </tr>\n",
              "    <tr>\n",
              "      <th>6</th>\n",
              "      <td>6.0</td>\n",
              "      <td>7.24</td>\n",
              "      <td>6.13</td>\n",
              "      <td>6.08</td>\n",
              "      <td>8.0</td>\n",
              "      <td>5.25</td>\n",
              "    </tr>\n",
              "    <tr>\n",
              "      <th>7</th>\n",
              "      <td>4.0</td>\n",
              "      <td>4.26</td>\n",
              "      <td>3.10</td>\n",
              "      <td>5.39</td>\n",
              "      <td>19.0</td>\n",
              "      <td>12.50</td>\n",
              "    </tr>\n",
              "    <tr>\n",
              "      <th>8</th>\n",
              "      <td>12.0</td>\n",
              "      <td>10.84</td>\n",
              "      <td>9.13</td>\n",
              "      <td>8.15</td>\n",
              "      <td>8.0</td>\n",
              "      <td>5.56</td>\n",
              "    </tr>\n",
              "    <tr>\n",
              "      <th>9</th>\n",
              "      <td>7.0</td>\n",
              "      <td>4.82</td>\n",
              "      <td>7.26</td>\n",
              "      <td>6.42</td>\n",
              "      <td>8.0</td>\n",
              "      <td>7.91</td>\n",
              "    </tr>\n",
              "    <tr>\n",
              "      <th>10</th>\n",
              "      <td>5.0</td>\n",
              "      <td>5.68</td>\n",
              "      <td>4.74</td>\n",
              "      <td>5.73</td>\n",
              "      <td>8.0</td>\n",
              "      <td>6.89</td>\n",
              "    </tr>\n",
              "  </tbody>\n",
              "</table>\n",
              "</div>"
            ],
            "text/plain": [
              "       x     y1    y2     y3    x4     y4\n",
              "0   10.0   8.04  9.14   7.46   8.0   6.58\n",
              "1    8.0   6.95  8.14   6.77   8.0   5.76\n",
              "2   13.0   7.58  8.74  12.74   8.0   7.71\n",
              "3    9.0   8.81  8.77   7.11   8.0   8.84\n",
              "4   11.0   8.33  9.26   7.81   8.0   8.47\n",
              "5   14.0   9.96  8.10   8.84   8.0   7.04\n",
              "6    6.0   7.24  6.13   6.08   8.0   5.25\n",
              "7    4.0   4.26  3.10   5.39  19.0  12.50\n",
              "8   12.0  10.84  9.13   8.15   8.0   5.56\n",
              "9    7.0   4.82  7.26   6.42   8.0   7.91\n",
              "10   5.0   5.68  4.74   5.73   8.0   6.89"
            ]
          },
          "metadata": {
            "tags": []
          },
          "execution_count": 58
        }
      ]
    },
    {
      "cell_type": "markdown",
      "metadata": {
        "id": "u5km0Rn0D-9k"
      },
      "source": [
        "Calculando a média:"
      ]
    },
    {
      "cell_type": "code",
      "metadata": {
        "id": "PS_LEfpVEA_a",
        "outputId": "6fad11e9-bb99-4f7e-9518-1575c1f3ac3d",
        "colab": {
          "base_uri": "https://localhost:8080/",
          "height": 143
        }
      },
      "source": [
        "df_anscombe.mean()"
      ],
      "execution_count": null,
      "outputs": [
        {
          "output_type": "execute_result",
          "data": {
            "text/plain": [
              "x     9.000000\n",
              "y1    7.500909\n",
              "y2    7.500909\n",
              "y3    7.500000\n",
              "x4    9.000000\n",
              "y4    7.500909\n",
              "dtype: float64"
            ]
          },
          "metadata": {
            "tags": []
          },
          "execution_count": 59
        }
      ]
    },
    {
      "cell_type": "markdown",
      "metadata": {
        "id": "zhwqEe3PEIbo"
      },
      "source": [
        "Calculando a variância:"
      ]
    },
    {
      "cell_type": "code",
      "metadata": {
        "id": "d3a27AbdENzn",
        "outputId": "225eff4f-6925-4055-f341-814ca7fadeb6",
        "colab": {
          "base_uri": "https://localhost:8080/",
          "height": 143
        }
      },
      "source": [
        "df_anscombe.var(ddof = 1) # var amostral"
      ],
      "execution_count": null,
      "outputs": [
        {
          "output_type": "execute_result",
          "data": {
            "text/plain": [
              "x     11.000000\n",
              "y1     4.127269\n",
              "y2     4.127629\n",
              "y3     4.122620\n",
              "x4    11.000000\n",
              "y4     4.123249\n",
              "dtype: float64"
            ]
          },
          "metadata": {
            "tags": []
          },
          "execution_count": 60
        }
      ]
    },
    {
      "cell_type": "markdown",
      "metadata": {
        "id": "vF20hKICHNY7"
      },
      "source": [
        "*Overview* dos coeficientes de correlação (Pearson e Spearman):"
      ]
    },
    {
      "cell_type": "code",
      "metadata": {
        "id": "Ei6bqbjMGRdI",
        "outputId": "fb35f4a4-156b-4735-a997-aeeeda1c098f",
        "colab": {
          "base_uri": "https://localhost:8080/",
          "height": 630
        }
      },
      "source": [
        "plt.figure(figsize=(20, 10))\n",
        "\n",
        "corrP = df_anscombe.corr(method = 'pearson')\n",
        "\n",
        "#Plot Correlation Matrix using Matplotlib - Pearson\n",
        "plt.subplot(1, 2, 1)\n",
        "plt.imshow(corrP, cmap='Greys', interpolation='none', aspect='auto')\n",
        "plt.colorbar()\n",
        "plt.xticks(range(len(corrP)), corrP.columns, rotation='vertical')\n",
        "plt.yticks(range(len(corrP)), corrP.columns);\n",
        "plt.xlabel('Correlation between variables\\n(Pearson)', fontsize=15, fontweight='bold')\n",
        "plt.tick_params(axis='both', which='major', labelsize=10, labelbottom = False, bottom=False, top = False, labeltop=True)\n",
        "plt.grid(False)\n",
        "\n",
        "corrS = df_anscombe.corr(method = 'spearman')\n",
        "\n",
        "#Plot Correlation Matrix using Matplotlib - Spearman\n",
        "plt.subplot(1, 2, 2)\n",
        "plt.imshow(corrS, cmap='Greys', interpolation='none', aspect='auto')\n",
        "plt.colorbar()\n",
        "plt.xticks(range(len(corrS)), corrS.columns, rotation='vertical')\n",
        "plt.yticks(range(len(corrS)), corrS.columns);\n",
        "plt.xlabel('Correlation between variables\\n(Spearman)', fontsize=15, fontweight='bold', verticalalignment =\"top\")\n",
        "plt.tick_params(axis='both', which='major', labelsize=10, labelbottom = False, bottom=False, top = False, labeltop=True)\n",
        "plt.grid(False)\n",
        "\n",
        "plt.show()"
      ],
      "execution_count": null,
      "outputs": [
        {
          "output_type": "display_data",
          "data": {
            "image/png": "[encoded data removed]",
            "text/plain": [
              "<Figure size 1440x720 with 4 Axes>"
            ]
          },
          "metadata": {
            "tags": [],
            "needs_background": "light"
          }
        }
      ]
    },
    {
      "cell_type": "markdown",
      "metadata": {
        "id": "H-Fj5VodKE0x"
      },
      "source": [
        "Obtendo os valores dos coeficientes de correlação de Pearson e Spearman:"
      ]
    },
    {
      "cell_type": "code",
      "metadata": {
        "id": "OVb-nwp6G_uC",
        "outputId": "dee54e73-fcec-4229-df35-a99c9e17bbe2",
        "colab": {
          "base_uri": "https://localhost:8080/",
          "height": 233
        }
      },
      "source": [
        "avalues = [\"x\", \"x\", \"x\", \"x4\"]\n",
        "bvalues = [\"y1\", \"y2\", \"y3\", \"y4\"]\n",
        "\n",
        "for i in range(len(avalues)):\n",
        "  print(\"Coeficiente de correlação de Pearson entre\", avalues[i], \"e\", bvalues[i], \":\",\n",
        "        pearsonr(df_anscombe[avalues[i]], df_anscombe[bvalues[i]])[0])\n",
        "  print(\"Coeficiente de correlação de Spearman entre\", avalues[i], \"e\", bvalues[i], \":\",\n",
        "        spearmanr(df_anscombe[avalues[i]], df_anscombe[bvalues[i]])[0], \"\\n\")"
      ],
      "execution_count": null,
      "outputs": [
        {
          "output_type": "stream",
          "text": [
            "Coeficiente de correlação de Pearson entre x e y1 : 0.81642051634484\n",
            "Coeficiente de correlação de Spearman entre x e y1 : 0.8181818181818182 \n",
            "\n",
            "Coeficiente de correlação de Pearson entre x e y2 : 0.8162365060002427\n",
            "Coeficiente de correlação de Spearman entre x e y2 : 0.690909090909091 \n",
            "\n",
            "Coeficiente de correlação de Pearson entre x e y3 : 0.8162867394895982\n",
            "Coeficiente de correlação de Spearman entre x e y3 : 0.990909090909091 \n",
            "\n",
            "Coeficiente de correlação de Pearson entre x4 e y4 : 0.8165214368885029\n",
            "Coeficiente de correlação de Spearman entre x4 e y4 : 0.5 \n",
            "\n"
          ],
          "name": "stdout"
        }
      ]
    },
    {
      "cell_type": "markdown",
      "metadata": {
        "id": "yoWEX6WDLDrX"
      },
      "source": [
        "Primeiro, é interessante entender o que é o Quarteto de Anscombe: se trata de quatro conjuntos de dados que possuem **estatísticas descritivas** semelhantes (média, variância e coeficientes de correlação de Pearson e Spearman), mas que possuem aparências distintas quando exibidas graficamente. \n",
        "\n",
        "O Quarteto de Anscombe foi construído pelo estatístico Francis Anscombe, com o objetivo de demonstrar:\n",
        "<ol>\n",
        "  <li>A importância de se visualizar graficamente os dados antes de se efetuar a análise; </li>\n",
        "  <li>O efeito de outliers e outras observações influentes nas propriedades estatísticas.</li>\n",
        "</ol>\n",
        "\n",
        "Nesse sentido, é possível fazer algumas observações. Apesar dos quatro gráficos apresentados serem consideravelmente diferentes (o que pode levar a pensar que os dados utilizados em sua construção não partilham semelhança quanto às medidas descritivas), tem-se que:\n",
        "<ul>\n",
        "  <li>A média de $x$ e de $x_4$ é a mesma: $9.0$;</li>\n",
        "  <li>A variância de $x$ e de $x_4$ é a mesma: $11.0$;</li>\n",
        "  <li>A média de $y_1$, $y_2$, $y_3$ e $y_4$ é a mesma se considerada precisão de duas casas decimais: $7.50$;</li>\n",
        "  <li>A variância de $y_1$, $y_2$, $y_3$ e $y_4$ é a mesma, se considerado um erro de $±0,003$: $4.125$;</li>\n",
        "  <li>O coeficiente de correlação de Pearson entre $x$ e $y$ é o mesmo, se considerada precisão de duas casas decimais: $0.81$.</li>\n",
        "</ul>\n",
        "\n",
        "Ainda, no primeiro cenário, tem-se que os coeficientes de correlçao calculados sao semelhantes e \"altos\" (superiores a $0.8$). Isso, juntamente com o gráfico de dispersão, indica uma forte relação linear entre as variáveis $x$ e $y_1$. \n",
        "\n",
        "No segundo cenário, tem-se que o coeficiente de correlação de Pearson é superior a $0.8,$ o que indica uma forte relação linear. O coeficiente de correlação de Spearman, por sua vez, é um pouco menor (aproximadamente $0.69$). Visuamente é possível notar que as variáveis $x$ e $y_2$ não apresentam uma relação linear e que, possivelmente, uma relação quadrática explique melhor  a estrutura de correlação entre as duas variáveis.\n",
        "\n",
        "No terceiro cenário, tem-se que ambos coeficientes de correlação são bem altos, ainda que o de Spearman seja consideravelmente mais alto do que o de Pearson ($0.99$ e $0.81$, respectivamente). Ainda, através da análise gráfica é possível notar a presença de um ponto discrepante dos demais, provavelmente um *outlier*, fato que explicaria o valor inferior do coeficiente de Pearson, que é mais sensível a *outliers*.\n",
        "\n",
        "O quarto e último cenário é o que apresenta maior discrepância entre os coeficientes de correlacao ($0.82$ para o de Pearson e $0.5$ para o de Spearman). Nesse caso, a menos de uma observação, todas as demais possuem o mesmo valor em $x_4$, evidenciando o fato de que o coeficiente de Spearman é fortemente influenciado por empates (*ties*) na amostra, já que tal coeficiente é baseado no *rank* das observações."
      ]
    }
  ]
}